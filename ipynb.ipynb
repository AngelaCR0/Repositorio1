{
 "cells": [
  {
   "cell_type": "code",
   "execution_count": 3,
   "metadata": {},
   "outputs": [],
   "source": [
    "# Las líneas que comienzan con el símbolo `#` son comentarios, y son ignoradas por␣,→Python completamente\n",
    "# Sólo existen para hacer tu código más legible para los humanos\n",
    "# Es una buena práctica tener uno o más comentarios por encima de las partes no obvias␣,→del código\n",
    "# para explicar lo que hacen\n",
    "# Datos sobre la probabilidad de éxito de la expansión según las estimaciones de los␣,→países\n",
    "estimados_de_exito = {\n",
    "'Australia': [0.6, 0.33, 0.11, 0.14],\n",
    "'France': [0.66, 0.78, 0.98, 0.2],\n",
    "'Italy': [0.6],\n",
    "'Brazil': [0.22, 0.22, 0.43],\n",
    "'USA': [0.2, 0.5, 0.3],\n",
    "'England': [0.45],\n",
    "'Canada': [0.25, 0.3],\n",
    "'Argentina': [0.22],\n",
    "'Greece': [0.45, 0.66, 0.75, 0.99, 0.15, 0.66],\n",
    "'Morocco': [0.29],\n",
    "'Tunisia': [0.68, 0.56],\n",
    "'Egypt': [0.99],\n",
    "'Jamaica': [0.61, 0.65, 0.71],\n",
    "'Switzerland': [0.73, 0.86, 0.84, 0.51, 0.99],\n",
    "'Germany': [0.45, 0.49, 0.36]\n",
    "}"
   ]
  },
  {
   "cell_type": "code",
   "execution_count": 4,
   "metadata": {},
   "outputs": [
    {
     "name": "stdout",
     "output_type": "stream",
     "text": [
      "{'Australia': [0.6, 0.33, 0.11, 0.14], 'France': [0.66, 0.78, 0.98, 0.2], 'Italy': [0.6], 'Brazil': [0.22, 0.22, 0.43], 'USA': [0.2, 0.5, 0.3], 'England': [0.45], 'Canada': [0.25, 0.3], 'Argentina': [0.22], 'Greece': [0.45, 0.66, 0.75, 0.99, 0.15, 0.66], 'Morocco': [0.29], 'Tunisia': [0.68, 0.56], 'Egypt': [0.99], 'Jamaica': [0.61, 0.65, 0.71], 'Switzerland': [0.73, 0.86, 0.84, 0.51, 0.99], 'Germany': [0.45, 0.49, 0.36]}\n"
     ]
    }
   ],
   "source": [
    "print(estimados_de_exito)"
   ]
  },
  {
   "cell_type": "code",
   "execution_count": 5,
   "metadata": {},
   "outputs": [
    {
     "data": {
      "text/plain": [
       "dict_keys(['Australia', 'France', 'Italy', 'Brazil', 'USA', 'England', 'Canada', 'Argentina', 'Greece', 'Morocco', 'Tunisia', 'Egypt', 'Jamaica', 'Switzerland', 'Germany'])"
      ]
     },
     "execution_count": 5,
     "metadata": {},
     "output_type": "execute_result"
    }
   ],
   "source": [
    "# Miremos las llaves...\n",
    "estimados_de_exito.keys()"
   ]
  },
  {
   "cell_type": "code",
   "execution_count": 7,
   "metadata": {},
   "outputs": [
    {
     "data": {
      "text/plain": [
       "['Australia',\n",
       " 'France',\n",
       " 'Italy',\n",
       " 'Brazil',\n",
       " 'USA',\n",
       " 'England',\n",
       " 'Canada',\n",
       " 'Argentina',\n",
       " 'Greece',\n",
       " 'Morocco',\n",
       " 'Tunisia',\n",
       " 'Egypt',\n",
       " 'Jamaica',\n",
       " 'Switzerland',\n",
       " 'Germany']"
      ]
     },
     "execution_count": 7,
     "metadata": {},
     "output_type": "execute_result"
    }
   ],
   "source": [
    "# Ahora veamos las llaves en forma de lista. Esto es más legible y utilizable para␣,→nosotros más tarde.\n",
    "list(estimados_de_exito.keys())"
   ]
  },
  {
   "cell_type": "code",
   "execution_count": 8,
   "metadata": {},
   "outputs": [
    {
     "data": {
      "text/plain": [
       "[[0.6, 0.33, 0.11, 0.14],\n",
       " [0.66, 0.78, 0.98, 0.2],\n",
       " [0.6],\n",
       " [0.22, 0.22, 0.43],\n",
       " [0.2, 0.5, 0.3],\n",
       " [0.45],\n",
       " [0.25, 0.3],\n",
       " [0.22],\n",
       " [0.45, 0.66, 0.75, 0.99, 0.15, 0.66],\n",
       " [0.29],\n",
       " [0.68, 0.56],\n",
       " [0.99],\n",
       " [0.61, 0.65, 0.71],\n",
       " [0.73, 0.86, 0.84, 0.51, 0.99],\n",
       " [0.45, 0.49, 0.36]]"
      ]
     },
     "execution_count": 8,
     "metadata": {},
     "output_type": "execute_result"
    }
   ],
   "source": [
    "# También podemos ver los valores correspondientes (estimaciones) para cada llave de la siguiente manera\n",
    "list(estimados_de_exito.values())"
   ]
  },
  {
   "cell_type": "code",
   "execution_count": 9,
   "metadata": {},
   "outputs": [
    {
     "name": "stdout",
     "output_type": "stream",
     "text": [
      "Comprobando si la llave de Marruecos (morocco) está presente:\n",
      "True\n",
      "Comprobación de la presencia de la llave de Japón:\n",
      "False\n"
     ]
    }
   ],
   "source": [
    "print('Comprobando si la llave de Marruecos (morocco) está presente:')\n",
    "print('Morocco' in estimados_de_exito) # imprime el VALOR de \"Morocco in␣,→estimados_de_exito\"\n",
    "print('Comprobación de la presencia de la llave de Japón:')\n",
    "japan_boolean = 'Japan' in estimados_de_exito\n",
    "print(japan_boolean)"
   ]
  },
  {
   "cell_type": "code",
   "execution_count": 10,
   "metadata": {},
   "outputs": [
    {
     "data": {
      "text/plain": [
       "[0.61, 0.65, 0.71]"
      ]
     },
     "execution_count": 10,
     "metadata": {},
     "output_type": "execute_result"
    }
   ],
   "source": [
    "estimados_de_exito['Jamaica']"
   ]
  },
  {
   "cell_type": "code",
   "execution_count": 11,
   "metadata": {},
   "outputs": [],
   "source": [
    "lista_de_jamaica = estimados_de_exito['Jamaica']"
   ]
  },
  {
   "cell_type": "code",
   "execution_count": 12,
   "metadata": {},
   "outputs": [
    {
     "name": "stdout",
     "output_type": "stream",
     "text": [
      "[0.61, 0.65, 0.71]\n"
     ]
    }
   ],
   "source": [
    "print(lista_de_jamaica)"
   ]
  },
  {
   "cell_type": "code",
   "execution_count": 13,
   "metadata": {},
   "outputs": [
    {
     "name": "stdout",
     "output_type": "stream",
     "text": [
      "0.61\n",
      "0.65\n",
      "0.71\n"
     ]
    }
   ],
   "source": [
    "# Cada impresión (print) se presentará en una línea nueva\n",
    "print(lista_de_jamaica[0]) # imprime el primer elemento de la lista\n",
    "print(lista_de_jamaica[1]) # imprime el segundo elemento de la lista\n",
    "print(lista_de_jamaica[2]) # imprime el tercer elemento de la lista"
   ]
  },
  {
   "cell_type": "code",
   "execution_count": 14,
   "metadata": {},
   "outputs": [
    {
     "name": "stdout",
     "output_type": "stream",
     "text": [
      "[0.65, 0.71]\n",
      "[0.65, 0.71]\n"
     ]
    }
   ],
   "source": [
    "# Tomando los últimos 2 elementos de lista_de_jamaica\n",
    "print(lista_de_jamaica[-2:]) # (va desde el penúltimo elemento hasta el final)\n",
    "print(lista_de_jamaica[1:]) # (va desde el segundo elemento hasta el final)"
   ]
  },
  {
   "cell_type": "code",
   "execution_count": 15,
   "metadata": {},
   "outputs": [
    {
     "name": "stdout",
     "output_type": "stream",
     "text": [
      "0.61\n"
     ]
    }
   ],
   "source": [
    "# rebanando varias capas\n",
    "print(estimados_de_exito['Jamaica'][0]) # obteniendo la primera estimación jamaicana␣→del diccionario"
   ]
  },
  {
   "cell_type": "code",
   "execution_count": 16,
   "metadata": {},
   "outputs": [
    {
     "data": {
      "text/plain": [
       "3"
      ]
     },
     "execution_count": 16,
     "metadata": {},
     "output_type": "execute_result"
    }
   ],
   "source": [
    "len(lista_de_jamaica) # devuelve la longitud de la lista"
   ]
  },
  {
   "cell_type": "code",
   "execution_count": 30,
   "metadata": {},
   "outputs": [
    {
     "name": "stdout",
     "output_type": "stream",
     "text": [
      "{1, 4, 6}\n"
     ]
    }
   ],
   "source": [
    "#Ejercicio 1 (3 min):\n",
    "#Imprimir la longitud de las listas de estimación de éxito para Francia, Grecia y Marruecos.\n",
    "#Respuesta.\n",
    "longitud_listas={len(estimados_de_exito['France']), len(estimados_de_exito['Greece']),len(estimados_de_exito['Morocco'])}\n",
    "print(longitud_listas)"
   ]
  },
  {
   "cell_type": "code",
   "execution_count": 31,
   "metadata": {},
   "outputs": [
    {
     "name": "stdout",
     "output_type": "stream",
     "text": [
      "0.6566666666666666\n"
     ]
    }
   ],
   "source": [
    "promedio_jamaica = (0.61 + 0.65 + 0.71) / 3\n",
    "print(promedio_jamaica)"
   ]
  },
  {
   "cell_type": "code",
   "execution_count": 32,
   "metadata": {},
   "outputs": [
    {
     "name": "stdout",
     "output_type": "stream",
     "text": [
      "[0.61, 0.65, 0.71]\n"
     ]
    }
   ],
   "source": [
    "nombre_de_pais = 'Jamaica'\n",
    "lista_de_jamaica = estimados_de_exito[nombre_de_pais] # Lista de las estimaciones para␣→Jamaica\n",
    "print(lista_de_jamaica)"
   ]
  },
  {
   "cell_type": "code",
   "execution_count": 33,
   "metadata": {},
   "outputs": [
    {
     "name": "stdout",
     "output_type": "stream",
     "text": [
      "País: Jamaica , Promedio: 0.6566666666666666\n",
      "País: Jamaica , Mínimo: 0.61\n",
      "País: Jamaica , Máximo: 0.71\n"
     ]
    }
   ],
   "source": [
    "promedio_jamaica = sum(lista_de_jamaica) / len(lista_de_jamaica)\n",
    "minimo_jamaica = min(lista_de_jamaica)\n",
    "maximo_jamaica = max(lista_de_jamaica)\n",
    "print(\"País:\",nombre_de_pais,\", Promedio:\",promedio_jamaica)\n",
    "print(\"País:\",nombre_de_pais,\", Mínimo:\",minimo_jamaica)\n",
    "print(\"País:\",nombre_de_pais,\", Máximo:\",maximo_jamaica)"
   ]
  },
  {
   "cell_type": "code",
   "execution_count": 34,
   "metadata": {},
   "outputs": [
    {
     "name": "stdout",
     "output_type": "stream",
     "text": [
      "País: Jamaica , Promedio: 0.66\n",
      "País: Jamaica , Mínimo: 0.61\n",
      "País: Jamaica , Máximo: 0.71\n"
     ]
    }
   ],
   "source": [
    "# round \n",
    "promedio_jamaica = round(sum(lista_de_jamaica) / len(lista_de_jamaica),2)\n",
    "minimo_jamaica = round(min(lista_de_jamaica),2)\n",
    "maximo_jamaica = round(max(lista_de_jamaica),2)\n",
    "print(\"País:\",nombre_de_pais,\", Promedio:\",promedio_jamaica)\n",
    "print(\"País:\",nombre_de_pais,\", Mínimo:\",minimo_jamaica)\n",
    "print(\"País:\",nombre_de_pais,\", Máximo:\",maximo_jamaica)"
   ]
  },
  {
   "cell_type": "code",
   "execution_count": 35,
   "metadata": {},
   "outputs": [
    {
     "name": "stdout",
     "output_type": "stream",
     "text": [
      "['Australia', 'France', 'Italy', 'Brazil', 'USA', 'England', 'Canada', 'Argentina', 'Greece', 'Morocco', 'Tunisia', 'Egypt', 'Jamaica', 'Switzerland', 'Germany']\n"
     ]
    }
   ],
   "source": [
    "# Obtener todas las llaves del diccionario de estimaciones de éxito\n",
    "lista_nombres_paises = list(estimados_de_exito.keys())\n",
    "print(lista_nombres_paises)"
   ]
  },
  {
   "cell_type": "code",
   "execution_count": 36,
   "metadata": {},
   "outputs": [
    {
     "ename": "IndentationError",
     "evalue": "expected an indented block (<ipython-input-36-3e87e48e482f>, line 3)",
     "output_type": "error",
     "traceback": [
      "\u001b[1;36m  File \u001b[1;32m\"<ipython-input-36-3e87e48e482f>\"\u001b[1;36m, line \u001b[1;32m3\u001b[0m\n\u001b[1;33m    print('--Comienza una iteración del bucle--')\u001b[0m\n\u001b[1;37m    ^\u001b[0m\n\u001b[1;31mIndentationError\u001b[0m\u001b[1;31m:\u001b[0m expected an indented block\n"
     ]
    }
   ],
   "source": [
    "# Loop through all countries and calculate their mean success estimate\n",
    "for i in lista_nombres_paises:\n",
    "print('--Comienza una iteración del bucle--')\n",
    "print('Elemento de la lista de nombres de países, marcador de posición i = ' + i)\n",
    "print('Acceder al valor de diccionario estimados_de_exito[i]: ',estimados_de_exito[i])\n",
    "print('Promedio de la lista de estimados_de_exito[i]: ',sum(estimados_de_exito[i]) / len(estimados_de_exito[i]))\n",
    "print('--Pasa a la siguiente iteración del bucle--')\n",
    "print()\n",
    "\n"
   ]
  },
  {
   "cell_type": "code",
   "execution_count": 48,
   "metadata": {},
   "outputs": [
    {
     "ename": "SyntaxError",
     "evalue": "unmatched ')' (<ipython-input-48-a3b8324188dd>, line 3)",
     "output_type": "error",
     "traceback": [
      "\u001b[1;36m  File \u001b[1;32m\"<ipython-input-48-a3b8324188dd>\"\u001b[1;36m, line \u001b[1;32m3\u001b[0m\n\u001b[1;33m    sum(estimados_de_exito[lista_nombres_paises[i]])/len(estimados_de_exito[lista_nombres_paises[i]]) )\u001b[0m\n\u001b[1;37m                                                                                                      ^\u001b[0m\n\u001b[1;31mSyntaxError\u001b[0m\u001b[1;31m:\u001b[0m unmatched ')'\n"
     ]
    }
   ],
   "source": [
    "for i in lista_nombres_paises:\n",
    "    print(\"Pais: \", lista_nombres_paises[i])\n",
    "    print(sum(estimados_de_exito[i])/len(estimados_de_exito[i]))\n",
    "    \n",
    "    print('--Pasa a la siguiente iteración del bucle--')\n",
    "print()"
   ]
  },
  {
   "cell_type": "code",
   "execution_count": null,
   "metadata": {},
   "outputs": [],
   "source": []
  }
 ],
 "metadata": {
  "kernelspec": {
   "display_name": "Python 3",
   "language": "python",
   "name": "python3"
  },
  "language_info": {
   "codemirror_mode": {
    "name": "ipython",
    "version": 3
   },
   "file_extension": ".py",
   "mimetype": "text/x-python",
   "name": "python",
   "nbconvert_exporter": "python",
   "pygments_lexer": "ipython3",
   "version": "3.8.3"
  }
 },
 "nbformat": 4,
 "nbformat_minor": 4
}
